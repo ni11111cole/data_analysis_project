{
 "cells": [
  {
   "cell_type": "code",
   "execution_count": 2,
   "id": "bfd1251f",
   "metadata": {},
   "outputs": [],
   "source": [
    "#长文本分类\n",
    "#用机器学习库scikit-learn"
   ]
  },
  {
   "cell_type": "code",
   "execution_count": 3,
   "id": "133446f1",
   "metadata": {},
   "outputs": [],
   "source": [
    "from sklearn.datasets import load_files#载入文件\n",
    "from sklearn.feature_extraction.text import CountVectorizer#求词频\n",
    "from sklearn.feature_extraction.text import TfidfVectorizer#求tfidf的\n",
    "from sklearn.linear_model import LogisticRegression#逻辑回归\n",
    "from sklearn.naive_bayes import MultinomialNB#朴素贝叶斯\n",
    "from sklearn.neighbors import KNeighborsClassifier#K近邻算法\n",
    "from sklearn.svm import SVC#支持向量机\n",
    "from sklearn.tree import DecisionTreeClassifier#决策树\n",
    "from sklearn.metrics import classification_report#??\n",
    "from sklearn.metrics import accuracy_score#\n",
    "from sklearn.model_selection import cross_val_score#?\n",
    "from sklearn.model_selection import KFold\n",
    "from sklearn.model_selection import GridSearchCV\n",
    "from sklearn.ensemble import AdaBoostClassifier\n",
    "from sklearn.ensemble import RandomForestClassifier#随机森林\n",
    "from matplotlib import pyplot as plt"
   ]
  },
  {
   "cell_type": "code",
   "execution_count": 4,
   "id": "3746ed0b",
   "metadata": {},
   "outputs": [],
   "source": [
    "#1、导入数据标签\n",
    "categories = ['alt.atheism','comp.graphics','comp.os.ms-windows.misc','comp.sys.ibm.pc.hardware','comp.sys.mac.hardware','comp.windows.x','misc.forsale','rec.autos','rec.motorcycles','rec.sport.baseball','sci.med','rec.sport.hockey','sci.crypt','sci.electronics','sci.space','soc.religion.christian','talk.politics.guns','talk.politics.mideasttalk.politics.mideast','talk.politics.misc','talk.religion.misc']"
   ]
  },
  {
   "cell_type": "code",
   "execution_count": 5,
   "id": "e8448e8b",
   "metadata": {},
   "outputs": [],
   "source": [
    "#导入训练数据\n",
    "train_path = '/Users/wangjing/Desktop/学习/19门专业基础/Python/Python编程与新媒体文本挖掘/20news-bydate-train'\n",
    "dataset_train = load_files(container_path=train_path,categories=categories)\n",
    "#导入评估数据\n",
    "test_path = '/Users/wangjing/Desktop/学习/19门专业基础/Python/Python编程与新媒体文本挖掘/20news-bydate-test'\n",
    "dataset_test = load_files(container_path=test_path,categories=categories)"
   ]
  },
  {
   "cell_type": "code",
   "execution_count": 6,
   "id": "50e325f8",
   "metadata": {},
   "outputs": [
    {
     "name": "stdout",
     "output_type": "stream",
     "text": [
      "(10750, 125091)\n",
      "(10750, 125091)\n"
     ]
    }
   ],
   "source": [
    "#2、数据准备与理解\n",
    "#计算词频\n",
    "count_vect = CountVectorizer(stop_words = 'english', decode_error='ignore')\n",
    "X_train_counts = count_vect.fit_transform(dataset_train.data)#求训练集的词频\n",
    "#查看数据维度\n",
    "print(X_train_counts.shape)\n",
    "\n",
    "#计算TF-IDF：=(文件词频/文件长度)*log(总文档数N/含有特定词语的文档数)\n",
    "tf_transformer = TfidfVectorizer(stop_words = 'english', decode_error='ignore')\n",
    "X_train_counts_tf = tf_transformer.fit_transform(dataset_train.data)\n",
    "#查看数据维度\n",
    "print(X_train_counts_tf.shape)\n",
    "#设置评估算法的基准\n",
    "num_folds = 10#交叉验证的折数，一般10\n",
    "seed = 7\n",
    "scoring = 'accuracy'"
   ]
  },
  {
   "cell_type": "code",
   "execution_count": 7,
   "id": "ae921c28",
   "metadata": {},
   "outputs": [
    {
     "data": {
      "text/plain": [
       "<5x125091 sparse matrix of type '<class 'numpy.int64'>'\n",
       "\twith 2160 stored elements in Compressed Sparse Row format>"
      ]
     },
     "execution_count": 7,
     "metadata": {},
     "output_type": "execute_result"
    }
   ],
   "source": [
    "X_train_counts[:5]"
   ]
  },
  {
   "cell_type": "code",
   "execution_count": 8,
   "id": "a0781671",
   "metadata": {},
   "outputs": [
    {
     "name": "stdout",
     "output_type": "stream",
     "text": [
      "LR:0.899535(0.006961)\n",
      "SVM:0.904093(0.007078)\n",
      "CART:0.648930(0.004801)\n",
      "MNB:0.877581(0.006838)\n",
      "KNN:0.791442(0.009737)\n"
     ]
    }
   ],
   "source": [
    "#3、评估算法\n",
    "#生成算法模型\n",
    "models = {}#建个字典，以模型名为键，算法为值，下面一一给键赋值\n",
    "models['LR'] = LogisticRegression() #逻辑回归\n",
    "models['SVM'] = SVC()#支持向量机\n",
    "models['CART'] = DecisionTreeClassifier()#决策树分类器\n",
    "models['MNB'] = MultinomialNB()#朴素贝叶斯分类器\n",
    "models['KNN'] = KNeighborsClassifier()#K近邻分类器\n",
    "\n",
    "#比较算法\n",
    "results = []\n",
    "for key in models:\n",
    "    kfold = KFold(n_splits = num_folds, random_state = seed, shuffle=True)\n",
    "    cv_results = cross_val_score(models[key],X_train_counts_tf, dataset_train.target, cv = kfold, scoring=scoring)\n",
    "    results.append(cv_results)\n",
    "    print('%s:%f(%f)' % (key, cv_results.mean(), cv_results.std()))\n",
    "\n"
   ]
  },
  {
   "cell_type": "code",
   "execution_count": 9,
   "id": "2be5a853",
   "metadata": {},
   "outputs": [
    {
     "data": {
      "image/png": "[encoded data removed]",
      "text/plain": [
       "<Figure size 432x288 with 1 Axes>"
      ]
     },
     "metadata": {
      "needs_background": "light"
     },
     "output_type": "display_data"
    }
   ],
   "source": [
    "#箱线图比较算法\n",
    "fig = plt.figure()\n",
    "fig.suptitle('Algorithm Comparision')\n",
    "ax = fig.add_subplot(111)\n",
    "plt.boxplot(results)\n",
    "ax.set_xticklabels(models.keys())\n",
    "plt.show()"
   ]
  },
  {
   "cell_type": "code",
   "execution_count": null,
   "id": "5d2e6158",
   "metadata": {},
   "outputs": [],
   "source": []
  }
 ],
 "metadata": {
  "kernelspec": {
   "display_name": "Python 3",
   "language": "python",
   "name": "python3"
  },
  "language_info": {
   "codemirror_mode": {
    "name": "ipython",
    "version": 3
   },
   "file_extension": ".py",
   "mimetype": "text/x-python",
   "name": "python",
   "nbconvert_exporter": "python",
   "pygments_lexer": "ipython3",
   "version": "3.7.16"
  }
 },
 "nbformat": 4,
 "nbformat_minor": 5
}
